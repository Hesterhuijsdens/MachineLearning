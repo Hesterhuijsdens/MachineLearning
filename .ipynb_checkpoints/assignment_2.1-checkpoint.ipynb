{
 "cells": [
  {
   "cell_type": "code",
   "execution_count": null,
   "metadata": {},
   "outputs": [
    {
     "data": {
      "text/plain": [
       "{'divide': 'ignore', 'invalid': 'ignore', 'over': 'ignore', 'under': 'ignore'}"
      ]
     },
     "execution_count": 6,
     "metadata": {},
     "output_type": "execute_result"
    }
   ],
   "source": [
    "from numpy import *\n",
    "import matplotlib.pyplot as plt\n",
    "\n",
    "# avoid overflow warnings\n",
    "seterr(all=\"ignore\")\n",
    "\n",
    "\n"
   ]
  },
  {
   "cell_type": "markdown",
   "metadata": {},
   "source": [
    "Assignment 2 a.) Sketch the trajectories, indicate stability of fixed points. <r\n",
    "$x1' = -x2 + x2^3 = 0$\n",
    "$= x2 (-1 + x2) = 0$\n",
    "$= x2^2-1 = 0, x2^2 = 1$\n",
    "$x2 = 0, x2 = sqrt(1), x2 = -sqrt(1)$\n",
    "\n",
    "$x2' = -x1 + x1^3 = 0$\n",
    "$= x1 (-1 + x1^2) = 0$\n",
    "$x1^2 - 1 = 0$\n",
    "$x1^2 = 1$\n",
    "$x1 = 0, x1 = sqrt(1), x1 = -sqrt(1)$\n",
    "\n",
    "put x1 in second derivative\n",
    "$x'' = -1 + 3 * 0^2 = -1$. X=0 is stable.\n",
    "$x'' = -1 + 3 * 1^2 = 2$. X=1 is unstable.\n",
    "$x'' = -1 + 3 * (-1)^2 = 2$. X=-1 is unstable."
   ]
  },
  {
   "cell_type": "code",
   "execution_count": 8,
   "metadata": {},
   "outputs": [
    {
     "data": {
      "image/png": "[encoded data removed]",
      "text/plain": [
       "<matplotlib.figure.Figure at 0x81be198>"
      ]
     },
     "metadata": {},
     "output_type": "display_data"
    }
   ],
   "source": [
    "# sketch\n",
    "def playplot(x):\n",
    "    return -x + x**3\n",
    "\n",
    "\n",
    "plt.figure(0)\n",
    "x = linspace(-2, 2, 20)\n",
    "plt.plot(x, playplot(x))\n",
    "plt.axhline(y=0, linestyle='--', c='grey')\n",
    "plt.show()"
   ]
  },
  {
   "cell_type": "markdown",
   "metadata": {},
   "source": [
    "b.) Find the two centers\n",
    "$x1' = 2x1x2 = 0$\n",
    "$x1 = 0 v x2 = 0$ (zero factor principle)\n",
    "\n",
    "$x2' = 1/4 - x1^2 + x2^2 = 0$\n",
    "plug x1 we just found into this function\n",
    "$= 1/4 - 0^2 + x2^2 = 0$\n",
    "$x2^2 = -1/4$\n",
    "$x2 = sqrt(-1/4) v -sqrt(-1/4)$\n",
    "use radial rule: sqrt(-1/4) = sqrt(-1) sqrt(1/4) = 0.5i$\n",
    "$x2 = 0.5i v -0.5i$"
   ]
  },
  {
   "cell_type": "code",
   "execution_count": null,
   "metadata": {
    "collapsed": true
   },
   "outputs": [],
   "source": []
  },
  {
   "cell_type": "code",
   "execution_count": null,
   "metadata": {
    "collapsed": true
   },
   "outputs": [],
   "source": []
  },
  {
   "cell_type": "code",
   "execution_count": null,
   "metadata": {
    "collapsed": true
   },
   "outputs": [],
   "source": []
  }
 ],
 "metadata": {
  "kernelspec": {
   "display_name": "Python 2",
   "language": "python",
   "name": "python2"
  },
  "language_info": {
   "codemirror_mode": {
    "name": "ipython",
    "version": 2
   },
   "file_extension": ".py",
   "mimetype": "text/x-python",
   "name": "python",
   "nbconvert_exporter": "python",
   "pygments_lexer": "ipython2",
   "version": "2.7.13"
  }
 },
 "nbformat": 4,
 "nbformat_minor": 1
}

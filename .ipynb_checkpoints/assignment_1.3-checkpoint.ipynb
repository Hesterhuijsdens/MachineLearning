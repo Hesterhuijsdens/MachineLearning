{
 "cells": [
  {
   "cell_type": "code",
   "execution_count": 14,
   "metadata": {},
   "outputs": [
    {
     "data": {
      "text/plain": [
       "{'divide': 'ignore', 'invalid': 'ignore', 'over': 'ignore', 'under': 'ignore'}"
      ]
     },
     "execution_count": 14,
     "metadata": {},
     "output_type": "execute_result"
    }
   ],
   "source": [
    "from numpy import *\n",
    "import matplotlib.pyplot as plt\n",
    "\n",
    "# avoid overflow warnings\n",
    "seterr(all=\"ignore\")\n"
   ]
  },
  {
   "cell_type": "markdown",
   "metadata": {},
   "source": [
    "a.) The analytical solution of $y'' + by' + b$ can be found by substuting y for $c exp(dx)$:\n",
    "\n",
    "$f = y'' + by' + y = 0$ <br>\n",
    "$f = d^2 c exp(dx) + b d c exp(dx) + c exp(dx) = 0$ <br>\n",
    "$f = c exp(dx) (d^2 + bd + 1) = 0$ <br>\n",
    "<br>\n",
    "Putting the second term in the abc formula gives:<br>\n",
    "$Lambda1,2 = (-b +- sqrt(b^2-4)) / 2$<br>\n",
    "<br>\n",
    "Second derivative for stability:<br>\n",
    "$df/dx = d^3 c exp(dx) + b d^2 c exp(dx) + d c exp(dx)$<br>\n",
    "$df/dx = d c exp(dx) (d^2 + bd + 1)$<br>\n",
    "<br>\n",
    "From this the following Fixed Points are found (see graph below):\n",
    "- If b < -2, there is an unstable node (second derivative is positive)\n",
    "- If b > 2, there is a stable node (second derivative is negative)\n"
   ]
  },
  {
   "cell_type": "markdown",
   "metadata": {},
   "source": []
  },
  {
   "cell_type": "code",
   "execution_count": 23,
   "metadata": {},
   "outputs": [
    {
     "name": "stdout",
     "output_type": "stream",
     "text": [
      "b:  -5.0  and x1:  4.79128784748  and x2:  0.208712152522\n",
      "b:  -3.75  and x1:  3.46107219256  and x2:  0.288927807444\n",
      "b:  -2.5  and x1:  2.0  and x2:  0.5\n",
      "b:  -1.25  and x1:  nan  and x2:  nan\n",
      "b:  0.0  and x1:  nan  and x2:  nan\n",
      "b:  1.25  and x1:  nan  and x2:  nan\n",
      "b:  2.5  and x1:  -0.5  and x2:  -2.0\n",
      "b:  3.75  and x1:  -0.288927807444  and x2:  -3.46107219256\n",
      "b:  5.0  and x1:  -0.208712152522  and x2:  -4.79128784748\n"
     ]
    }
   ],
   "source": [
    "# input lambda1,2 in second derivative to find stability\n",
    "b = linspace(-5, 5, 9)\n",
    "d = 1\n",
    "for j in b:\n",
    "    x1 = (- j + sqrt(j**2 - 4)) / 2\n",
    "    x2 = (- j - sqrt(j**2 - 4)) / 2\n",
    "    print \"b: \", j, \" and x1: \", x1, \" and x2: \", x2"
   ]
  },
  {
   "cell_type": "code",
   "execution_count": 25,
   "metadata": {},
   "outputs": [
    {
     "data": {
      "image/png": "[encoded data removed]",
      "text/plain": [
       "<matplotlib.figure.Figure at 0x8f2fb38>"
      ]
     },
     "metadata": {},
     "output_type": "display_data"
    }
   ],
   "source": [
    "# stable equilibrium\n",
    "def xeq1(r):\n",
    "    return (- r + sqrt(r**2 - 4)) / 2\n",
    "\n",
    "\n",
    "# unstable equilibrium\n",
    "def xeq2(r):\n",
    "    return (- r - sqrt(r**2 - 4)) / 2\n",
    "\n",
    "\n",
    "plt.figure(0)\n",
    "domain1 = linspace(-10, 0, 50)\n",
    "domain2 = linspace(0, 10, 50)\n",
    "plt.plot(domain1, xeq1(domain1), 'r--', linewidth=1)\n",
    "plt.plot(domain1, xeq2(domain1), 'r--', linewidth=1)\n",
    "plt.plot(domain2, xeq1(domain2), 'b-', linewidth=1)\n",
    "plt.plot(domain2, xeq2(domain2), 'b-', linewidth=1)\n",
    "plt.xlabel('b')\n",
    "plt.ylabel('equilibrium point')\n",
    "plt.title('Bifurcation diagram')\n",
    "plt.axhline(y=0, linestyle='--', c='grey')\n",
    "plt.show()"
   ]
  },
  {
   "cell_type": "markdown",
   "metadata": {},
   "source": [
    "b.) Linearize this system around the origin. Jacobian:<br>\n",
    "$J(0, 0) = (y1'; y2';) = (0 -1; 1 -b;) (y1; y2;)$<br>\n",
    "$Tr(J) = 0 - b$, so that b > 0 then Tr(J) < 0 so stable and b < 0 then Tr(J) > 0 so unstable<br>\n",
    "$Det(J) = (0 * -b) - (-1 * 1) = 1$, so no saddle points.<br>\n",
    "$Lambda1,2 = -1/2Tr(J) +- 1/2 sqrt(Tr(J)^2 - 4 * Det(J))$<br>\n",
    "$Lambda1,2 = -1/2 * (0 - b) +- 1/2 sqrt((0 - b)^2 - 4 * 1)$<br>"
   ]
  },
  {
   "cell_type": "code",
   "execution_count": 26,
   "metadata": {},
   "outputs": [
    {
     "data": {
      "image/png": "[encoded data removed]",
      "text/plain": [
       "<matplotlib.figure.Figure at 0x914ca90>"
      ]
     },
     "metadata": {},
     "output_type": "display_data"
    }
   ],
   "source": [
    "\n",
    "\n",
    "# lambda1\n",
    "def xeq1(tau):\n",
    "    return -0.5 * tau + 0.5 * sqrt(tau**2 - 4)\n",
    "\n",
    "\n",
    "# lambda2\n",
    "def xeq2(tau):\n",
    "    return -0.5 * tau - 0.5 * sqrt(tau ** 2 - 4)\n",
    "\n",
    "\n",
    "plt.figure(0)\n",
    "domain1 = linspace(-10, 0, 50)\n",
    "domain2 = linspace(0, 10, 50)\n",
    "domain1 = 0 - domain1\n",
    "domain2 = 0 - domain2\n",
    "plt.plot(domain1, xeq1(domain1), 'b-', linewidth=1)\n",
    "plt.plot(domain1, xeq2(domain1), 'b-', linewidth=1)\n",
    "plt.plot(domain2, xeq1(domain2), 'r--', linewidth=1)\n",
    "plt.plot(domain2, xeq2(domain2), 'r--', linewidth=1)\n",
    "plt.xlabel('tau')\n",
    "plt.ylabel('equilibrium point')\n",
    "plt.title('Bifurcation diagram')\n",
    "plt.axhline(y=0, linestyle='--', c='grey')\n",
    "plt.show()\n",
    "\n",
    "\n",
    "\n",
    "\n",
    "\n",
    "\n"
   ]
  },
  {
   "cell_type": "code",
   "execution_count": 19,
   "metadata": {
    "collapsed": true
   },
   "outputs": [],
   "source": []
  },
  {
   "cell_type": "code",
   "execution_count": 19,
   "metadata": {
    "collapsed": true
   },
   "outputs": [],
   "source": []
  },
  {
   "cell_type": "code",
   "execution_count": 19,
   "metadata": {
    "collapsed": true
   },
   "outputs": [],
   "source": []
  }
 ],
 "metadata": {
  "kernelspec": {
   "display_name": "Python 2",
   "language": "python",
   "name": "python2"
  },
  "language_info": {
   "codemirror_mode": {
    "name": "ipython",
    "version": 2
   },
   "file_extension": ".py",
   "mimetype": "text/x-python",
   "name": "python",
   "nbconvert_exporter": "python",
   "pygments_lexer": "ipython2",
   "version": "2.7.13"
  }
 },
 "nbformat": 4,
 "nbformat_minor": 1
}
